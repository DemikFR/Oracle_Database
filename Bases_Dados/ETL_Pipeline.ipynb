{
 "cells": [
  {
   "cell_type": "markdown",
   "id": "42cfb90d",
   "metadata": {},
   "source": [
    "# ETL Pipeline"
   ]
  },
  {
   "cell_type": "markdown",
   "id": "0844a7e3",
   "metadata": {},
   "source": [
    "## Extract - Tratamento de Campos"
   ]
  },
  {
   "cell_type": "code",
   "execution_count": 1,
   "id": "59b88715",
   "metadata": {},
   "outputs": [],
   "source": [
    "import pandas as pd\n",
    "import pandera as pa\n",
    "import regex as re"
   ]
  },
  {
   "cell_type": "code",
   "execution_count": 2,
   "id": "e28de848",
   "metadata": {
    "scrolled": false
   },
   "outputs": [],
   "source": [
    "df = pd.read_csv(\"bolsistas_iniciacao_cientifica.csv\", sep=';', encoding='UTF-8')"
   ]
  },
  {
   "cell_type": "code",
   "execution_count": null,
   "id": "dcb7e25f",
   "metadata": {},
   "outputs": [],
   "source": [
    "df.head(10)"
   ]
  },
  {
   "cell_type": "code",
   "execution_count": null,
   "id": "e4b91494",
   "metadata": {},
   "outputs": [],
   "source": [
    "df.shape"
   ]
  },
  {
   "cell_type": "markdown",
   "id": "43ed1c69",
   "metadata": {},
   "source": [
    "#### Ele se tornou float por ter nulos, porém neste tipo de dados temos que ter decimais, mas no banco ele é PK inteiro."
   ]
  },
  {
   "cell_type": "code",
   "execution_count": null,
   "id": "5ff9e9a7",
   "metadata": {
    "scrolled": true
   },
   "outputs": [],
   "source": [
    "# É necessário manter os NULOS para facilitar o processo de carga no Oracle\n",
    "df1 = df['id_grupo_pesquisa'].astype(str)\n",
    "df.id_grupo_pesquisa = df1.apply(lambda x: x.split('.')[0]).replace('nan', pd.NA)"
   ]
  },
  {
   "cell_type": "markdown",
   "id": "54e360c3",
   "metadata": {},
   "source": [
    "### Tranformar a data Inicio e Fim, para apenas data, sem a Hora."
   ]
  },
  {
   "cell_type": "code",
   "execution_count": null,
   "id": "4b462e15",
   "metadata": {},
   "outputs": [],
   "source": [
    "df['inicio'] = pd.to_datetime(df['inicio']).dt.normalize()"
   ]
  },
  {
   "cell_type": "code",
   "execution_count": null,
   "id": "6af74af3",
   "metadata": {},
   "outputs": [],
   "source": [
    "df['fim'] = pd.to_datetime(df['fim']).dt.normalize()"
   ]
  },
  {
   "cell_type": "code",
   "execution_count": null,
   "id": "b94743f5",
   "metadata": {},
   "outputs": [],
   "source": [
    "df.head(10)"
   ]
  },
  {
   "cell_type": "code",
   "execution_count": null,
   "id": "f7d0f843",
   "metadata": {},
   "outputs": [],
   "source": [
    "df.dtypes"
   ]
  },
  {
   "cell_type": "code",
   "execution_count": null,
   "id": "e146f190",
   "metadata": {},
   "outputs": [],
   "source": [
    "df.isnull().any()"
   ]
  },
  {
   "cell_type": "markdown",
   "id": "a39a9e68",
   "metadata": {},
   "source": [
    "#### Com o Pandera, é possível realizar um tratamento de atributos de forma mais prática"
   ]
  },
  {
   "cell_type": "code",
   "execution_count": null,
   "id": "308559c7",
   "metadata": {},
   "outputs": [],
   "source": [
    "schema = pa.DataFrameSchema(\n",
    "    columns = {\n",
    "        \"id_discente\":pa.Column(pa.Int),\n",
    "        \"matricula\":pa.Column(pa.Int),\n",
    "        \"discente\":pa.Column(pa.String),\n",
    "        \"titulo\":pa.Column(pa.Object, nullable=True),\n",
    "        \"codigo_projeto\":pa.Column(pa.String),\n",
    "        \"id_projeto_pesquisa\":pa.Column(pa.Int),\n",
    "        \"ano\":pa.Column(pa.Int),\n",
    "        \"id_orientador\":pa.Column(pa.Int),\n",
    "        \"orientador\":pa.Column(pa.String),\n",
    "        \"categoria\":pa.Column(pa.String),\n",
    "        \"tipo_de_bolsa\":pa.Column(pa.String),\n",
    "        \"linha_pesquisa\":pa.Column(pa.String, nullable=True),\n",
    "        \"id_grupo_pesquisa\":pa.Column(pa.Object, nullable=True),\n",
    "        \"grupo_pesquisa\":pa.Column(pa.String, nullable=True),\n",
    "        \"cota\":pa.Column(pa.String),\n",
    "        \"inicio\":pa.Column(pa.DateTime, nullable=True),\n",
    "        \"fim\":pa.Column(pa.DateTime, nullable=True),\n",
    "        \"id_unidade\":pa.Column(pa.Int),\n",
    "        \"unidade\":pa.Column(pa.String),\n",
    "        \"status\":pa.Column(pa.String)\n",
    "    }\n",
    ")"
   ]
  },
  {
   "cell_type": "code",
   "execution_count": null,
   "id": "9c48684f",
   "metadata": {
    "scrolled": true
   },
   "outputs": [],
   "source": [
    "schema.validate(df, inplace=True)"
   ]
  },
  {
   "cell_type": "markdown",
   "id": "023cae67",
   "metadata": {},
   "source": [
    "### Padronizar o nome das colunas para o mesmo definido na modelagem"
   ]
  },
  {
   "cell_type": "code",
   "execution_count": null,
   "id": "339c1b75",
   "metadata": {},
   "outputs": [],
   "source": [
    "df = df.rename(columns={'id_projeto_pesquisa': 'cd_projeto_pesquisa', 'orientador': 'nm_orientador', 'tipo_de_bolsa'\n",
    "                        : 'tipo_bolsa', 'id_grupo_pesquisa': 'id_grupo', 'grupo_pesquisa': 'nm_grupo', 'inicio'\n",
    "                        : 'inicio_pesquisa', 'fim': 'fim_pesquisa', 'unidade': 'nm_unidade'})"
   ]
  },
  {
   "cell_type": "markdown",
   "id": "9ec54e8f",
   "metadata": {},
   "source": [
    "#### Dropar a linha caso tenha a metade ou mais nulo"
   ]
  },
  {
   "cell_type": "code",
   "execution_count": null,
   "id": "88499f8b",
   "metadata": {},
   "outputs": [],
   "source": [
    "df.dropna(axis=0, thresh=10, inplace=True)"
   ]
  },
  {
   "cell_type": "markdown",
   "id": "91ce9bf5",
   "metadata": {},
   "source": [
    "## Transform - Tratamento dos Registros"
   ]
  },
  {
   "cell_type": "markdown",
   "id": "8452b85f",
   "metadata": {},
   "source": [
    "### Vericar se contém caracteres especiais nos campos que não podem ter."
   ]
  },
  {
   "cell_type": "code",
   "execution_count": null,
   "id": "7e04c16f",
   "metadata": {
    "scrolled": true
   },
   "outputs": [],
   "source": [
    "df.loc[df.discente.notnull() & (df['discente'].astype(str).str.replace(\" \", \"\").str.isalnum() == False)]"
   ]
  },
  {
   "cell_type": "code",
   "execution_count": null,
   "id": "385bd11e",
   "metadata": {},
   "outputs": [],
   "source": [
    "# Realizar o tratamento para os valores anteriores\n",
    "df.discente = df.discente.str.replace('.', '').str.replace('-', '')"
   ]
  },
  {
   "cell_type": "code",
   "execution_count": null,
   "id": "ad2587e2",
   "metadata": {
    "scrolled": false
   },
   "outputs": [],
   "source": [
    "# Vericar se existem inconsistências no nome do nm_orientador\n",
    "\n",
    "df.loc[df.nm_orientador.notnull() & (df['nm_orientador'].astype(str).str.replace(\" \", \"\").str.isalnum() == False)]"
   ]
  },
  {
   "cell_type": "code",
   "execution_count": null,
   "id": "1e30149d",
   "metadata": {},
   "outputs": [],
   "source": [
    "# Mudar o limite de linha e caracteres nos campos para facilitar a visualização dos próximos campos\n",
    "pd.options.display.max_colwidth = 200"
   ]
  },
  {
   "cell_type": "code",
   "execution_count": null,
   "id": "d9acce9f",
   "metadata": {},
   "outputs": [],
   "source": [
    "# No caso do nm_grupo, não pode ter\n",
    "\n",
    "df.loc[df.nm_grupo.notnull() & (df['nm_grupo'].astype(str).str.replace(\" \", \"\").str.isalnum() == False)]"
   ]
  },
  {
   "cell_type": "code",
   "execution_count": null,
   "id": "789261e5",
   "metadata": {},
   "outputs": [],
   "source": [
    "# Mudar o limite de linha e caracteres nos campos para facilitar a visualização dos próximos \n",
    "pd.options.display.max_colwidth = 200\n",
    "pd.options.display.max_rows = 50"
   ]
  },
  {
   "cell_type": "markdown",
   "id": "6164bd7e",
   "metadata": {},
   "source": [
    "### Tratar o nm_grupo, encontrado \".\" em alguns registros, devem ser compreendidos e retirados caso necessário"
   ]
  },
  {
   "cell_type": "code",
   "execution_count": null,
   "id": "30d1d82b",
   "metadata": {
    "scrolled": true
   },
   "outputs": [],
   "source": [
    "# No caso do nm_grupo\n",
    "\n",
    "df.loc[df.nm_grupo.notnull() & (df['nm_grupo'].str.contains(\".\", regex=False))]"
   ]
  },
  {
   "cell_type": "code",
   "execution_count": null,
   "id": "9b9119e2",
   "metadata": {},
   "outputs": [],
   "source": [
    "df.loc[df.nm_grupo.notnull() & df.nm_grupo.str.endswith('.'), 'nm_grupo']"
   ]
  },
  {
   "cell_type": "markdown",
   "id": "b95c057f",
   "metadata": {},
   "source": [
    "#### Alguns registros, contém \".\" no final devem ser substituido por nada. "
   ]
  },
  {
   "cell_type": "code",
   "execution_count": null,
   "id": "6a81f2de",
   "metadata": {},
   "outputs": [],
   "source": [
    "selecao = (df.nm_grupo.notnull()) & (df.nm_grupo.str.endswith('.'))\n",
    "df.loc[selecao, 'nm_grupo'] = df.loc[selecao, 'nm_grupo'].str.replace('.', '', regex=False)\n",
    "df"
   ]
  },
  {
   "cell_type": "code",
   "execution_count": null,
   "id": "092c9b0a",
   "metadata": {},
   "outputs": [],
   "source": [
    "df1.head(10)"
   ]
  },
  {
   "cell_type": "markdown",
   "id": "508761b9",
   "metadata": {},
   "source": [
    "#### Os grupos de pesquisa de ID 4878102 e 13087450, tem o ponto como vírgula"
   ]
  },
  {
   "cell_type": "code",
   "execution_count": null,
   "id": "cb867b63",
   "metadata": {},
   "outputs": [],
   "source": [
    "selecao = (df.id_grupo.notnull()) & (df.id_grupo.str.match('(4878102)|(13087450)'))\n",
    "df.loc[selecao, 'nm_grupo'] = df.loc[selecao, 'nm_grupo'].str.replace('.', ',', regex=False)"
   ]
  },
  {
   "cell_type": "code",
   "execution_count": null,
   "id": "0e4bbffa",
   "metadata": {},
   "outputs": [],
   "source": [
    "df[df.id_grupo == '13087450']"
   ]
  },
  {
   "cell_type": "code",
   "execution_count": null,
   "id": "a5c7d527",
   "metadata": {},
   "outputs": [],
   "source": [
    "# Verificar as alterações, deve aparecer apenas um grupo\n",
    "\n",
    "selecao = df.nm_grupo.notnull() & df['nm_grupo'].str.contains(\".\", regex=False)\n",
    "df.loc[selecao, ['id_grupo', 'nm_grupo']].drop_duplicates()"
   ]
  },
  {
   "cell_type": "markdown",
   "id": "b1a0f34c",
   "metadata": {},
   "source": [
    "### Verificar se existem caracteres não convertidos"
   ]
  },
  {
   "cell_type": "code",
   "execution_count": null,
   "id": "dc2051db",
   "metadata": {
    "scrolled": true
   },
   "outputs": [],
   "source": [
    "def col_caractere():\n",
    "    col_list = []\n",
    "    for col in df.columns: \n",
    "        try:\n",
    "            mask = df[col].fillna('').str.contains(r'[^\\w\\s\\x00-\\x7F!\"\\#$%&()*+,\\-./:;<=>?@^_‘{|}~]')\n",
    "            if mask.any():\n",
    "                col_list.append(col)\n",
    "            else:\n",
    "                continue\n",
    "        except AttributeError:\n",
    "            continue\n",
    "    return col_list"
   ]
  },
  {
   "cell_type": "code",
   "execution_count": null,
   "id": "5cedef43",
   "metadata": {},
   "outputs": [],
   "source": [
    "col_caractere()"
   ]
  },
  {
   "cell_type": "markdown",
   "id": "88b2ebdf",
   "metadata": {},
   "source": [
    "#### Será necessário entender quais caracteres são cada um e em cada coluna que tem"
   ]
  },
  {
   "cell_type": "code",
   "execution_count": null,
   "id": "54c0fe0c",
   "metadata": {},
   "outputs": [],
   "source": [
    "mask = df['titulo'].fillna('').str.contains(r'[^\\w\\s\\x00-\\x7F!\"\\#$%&()*+,\\-./:;<=>?@^_‘{|}~]')\n",
    "df.loc[mask, 'titulo'].drop_duplicates()"
   ]
  },
  {
   "cell_type": "code",
   "execution_count": null,
   "id": "2e593a97",
   "metadata": {},
   "outputs": [],
   "source": [
    "mask = df['linha_pesquisa'].fillna('').str.contains(r'[^\\w\\s\\x00-\\x7F!\"\\#$%&()*+,\\-./:;<=>?@^_‘{|}~]')\n",
    "df.loc[mask, 'linha_pesquisa'].drop_duplicates()"
   ]
  },
  {
   "cell_type": "code",
   "execution_count": null,
   "id": "220a46f2",
   "metadata": {},
   "outputs": [],
   "source": [
    "mask = df['nm_grupo'].fillna('').str.contains(r'[^\\w\\s\\x00-\\x7F!\"\\#$%&()*+,\\-./:;<=>?@^_‘{|}~]')\n",
    "df.loc[mask, 'nm_grupo'].drop_duplicates()"
   ]
  },
  {
   "cell_type": "markdown",
   "id": "e32b691d",
   "metadata": {},
   "source": [
    "#### 1 - Todos os campo em que o caractere está entre dois espaços deveria ser o meio hífen, porém poderá ser transformado em hífen. "
   ]
  },
  {
   "cell_type": "markdown",
   "id": "0d0912c0",
   "metadata": {},
   "source": [
    "#### 2 - Se estiverem com o \\t na frente, deve ser substituido por \"- \""
   ]
  },
  {
   "cell_type": "markdown",
   "id": "372ea8a3",
   "metadata": {},
   "source": [
    "#### Percorrerá todas as colunas que tem o caractere."
   ]
  },
  {
   "cell_type": "code",
   "execution_count": null,
   "id": "523fa833",
   "metadata": {},
   "outputs": [],
   "source": [
    "regex = ['[\\s][^\\w\\s\\x00-\\x7F!\"\\#$%&()*+,\\-./:;<=>?@^_‘{|}~][\\s]', '[^\\w\\s\\x00-\\x7F!\"\\#$%&()*+,\\-./:;<=>?@^_‘{|}~][\\t]']\n",
    "\n",
    "mask = df['nm_grupo'].fillna('').str.contains(r'{}'.format(regex[1]))\n",
    "df.loc[mask, 'nm_grupo'].drop_duplicates()"
   ]
  },
  {
   "cell_type": "code",
   "execution_count": null,
   "id": "2ea866a9",
   "metadata": {},
   "outputs": [],
   "source": [
    "cols = col_caractere()\n",
    "regex = ['[\\s][^\\w\\s\\x00-\\x7F!\"\\#$%&()*+,\\-./:;<=>?@^_‘{|}~][\\s]', '[^\\w\\s\\x00-\\x7F!\"\\#$%&()*+,\\-./:;<=>?@^_‘{|}~][\\t]']\n",
    "\n",
    "for i in cols:\n",
    "    df[i] = df[i].str.replace(regex[0], ' - ',  regex=True).str.replace(regex[1], '- ', regex=True)"
   ]
  },
  {
   "cell_type": "markdown",
   "id": "a9c08e38",
   "metadata": {},
   "source": [
    "### Restaram apenas os caracteres que ficam no começo e fim de cada texto, esses serão apagados conforme a RN 20"
   ]
  },
  {
   "cell_type": "code",
   "execution_count": null,
   "id": "e1c4b633",
   "metadata": {},
   "outputs": [],
   "source": [
    "col_list = []\n",
    "\n",
    "for col in df.columns: \n",
    "    try:\n",
    "        mask = df[col].fillna('').str.contains(r'^[^\\w\\x00-\\x7F\\d(]+|[^\\w\\x00-\\x7F\\d)]+$')\n",
    "        if mask.any():\n",
    "            col_list.append(col)\n",
    "        else:\n",
    "            continue\n",
    "    except AttributeError:\n",
    "        continue"
   ]
  },
  {
   "cell_type": "code",
   "execution_count": null,
   "id": "805de604",
   "metadata": {},
   "outputs": [],
   "source": [
    "col_list"
   ]
  },
  {
   "cell_type": "code",
   "execution_count": null,
   "id": "b31fa7fb",
   "metadata": {},
   "outputs": [],
   "source": [
    "for col in col_list:\n",
    "    df[col] = df[col].str.replace(r'^[^\\x00-\\x7F\\d]+|[^\\x00-\\x7F\\d]+$', '', regex=True)"
   ]
  },
  {
   "cell_type": "markdown",
   "id": "68613d62",
   "metadata": {},
   "source": [
    "### Alguns textos não seguem o padrão de Português para os sinais de pontuação. Alguns, não tem um espaço depois, dificultando a visualização, por exemplo: 'texto;texto', sendo que deveria ser 'texto; texto'."
   ]
  },
  {
   "cell_type": "code",
   "execution_count": null,
   "id": "92b075ef",
   "metadata": {},
   "outputs": [],
   "source": [
    "col_list = []\n",
    "\n",
    "for col in df.columns: \n",
    "    try:\n",
    "        mask = df[col].fillna('').str.contains(r'[\\w][,:;!?][\\w]')\n",
    "        if mask.any():\n",
    "            col_list.append(col)\n",
    "        else:\n",
    "            continue\n",
    "    except AttributeError:\n",
    "        continue"
   ]
  },
  {
   "cell_type": "code",
   "execution_count": null,
   "id": "2a5aec70",
   "metadata": {},
   "outputs": [],
   "source": [
    "col_list"
   ]
  },
  {
   "cell_type": "code",
   "execution_count": null,
   "id": "2217cc94",
   "metadata": {},
   "outputs": [],
   "source": [
    "mask = df['titulo'].fillna('').str.contains(r'[\\w][,:;!?][\\w]')\n",
    "df.loc[mask, 'titulo'].drop_duplicates()"
   ]
  },
  {
   "cell_type": "code",
   "execution_count": null,
   "id": "6621fd9d",
   "metadata": {},
   "outputs": [],
   "source": [
    "mask = df['linha_pesquisa'].fillna('').str.contains(r'[\\w][,:;!?][\\w]')\n",
    "df.loc[mask, 'linha_pesquisa'].drop_duplicates()"
   ]
  },
  {
   "cell_type": "code",
   "execution_count": null,
   "id": "5d1a856d",
   "metadata": {},
   "outputs": [],
   "source": [
    "mask = df['nm_grupo'].fillna('').str.contains(r'[\\w][,:;!?][\\w]')\n",
    "df.loc[mask, 'nm_grupo'].drop_duplicates()"
   ]
  },
  {
   "cell_type": "markdown",
   "id": "ba5f9662",
   "metadata": {},
   "source": [
    "### Cada uma das colunas retornadas pelo loop, seguem a sua diferença, no caso do título, a vírgula não tem espaço por conta da forma de escrita da Química"
   ]
  },
  {
   "cell_type": "code",
   "execution_count": null,
   "id": "31cc9faf",
   "metadata": {},
   "outputs": [],
   "source": [
    "df['titulo'] = df['titulo'].fillna('').str.replace(r'(\\w)(:;!?)(\\w)', '\\1\\2 \\3', regex=True)"
   ]
  },
  {
   "cell_type": "code",
   "execution_count": null,
   "id": "e855ce8b",
   "metadata": {},
   "outputs": [],
   "source": [
    "df['titulo'] = df['titulo'].fillna('').str.replace(r'(\\w)(,:;!?)(\\w)', '\\1\\2 \\3', regex=True)"
   ]
  },
  {
   "cell_type": "code",
   "execution_count": null,
   "id": "17e10de1",
   "metadata": {},
   "outputs": [],
   "source": [
    "df['linha_pesquisa'] = df['linha_pesquisa'].fillna('').str.replace(r'(\\w)(,:;!?)(\\w)', '\\1\\2 \\3', regex=True)"
   ]
  }
 ],
 "metadata": {
  "kernelspec": {
   "display_name": "Python 3 (ipykernel)",
   "language": "python",
   "name": "python3"
  },
  "language_info": {
   "codemirror_mode": {
    "name": "ipython",
    "version": 3
   },
   "file_extension": ".py",
   "mimetype": "text/x-python",
   "name": "python",
   "nbconvert_exporter": "python",
   "pygments_lexer": "ipython3",
   "version": "3.9.12"
  }
 },
 "nbformat": 4,
 "nbformat_minor": 5
}
